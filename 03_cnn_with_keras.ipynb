{
 "cells": [
  {
   "cell_type": "code",
   "execution_count": 1,
   "metadata": {
    "_cell_guid": "2c3412a4-039b-4229-9387-9321169f16eb",
    "_uuid": "8def9627e9d48b26de3159fc9a2ec38e854ab16e"
   },
   "outputs": [
    {
     "name": "stdout",
     "output_type": "stream",
     "text": [
      "fashion-mnist_test.csv\n",
      "fashion-mnist_train.csv\n",
      "t10k-images-idx3-ubyte\n",
      "t10k-labels-idx1-ubyte\n",
      "train-images-idx3-ubyte\n",
      "train-labels-idx1-ubyte\n",
      "\n"
     ]
    }
   ],
   "source": [
    "# This Python 3 environment comes with many helpful analytics libraries installed\n",
    "# It is defined by the kaggle/python docker image: https://github.com/kaggle/docker-python\n",
    "# For example, here's several helpful packages to load in \n",
    "\n",
    "import numpy as np # linear algebra\n",
    "import pandas as pd # data processing, CSV file I/O (e.g. pd.read_csv)\n",
    "\n",
    "# Input data files are available in the \"../input/\" directory.\n",
    "# For example, running this (by clicking run or pressing Shift+Enter) will list the files in the input directory\n",
    "\n",
    "from subprocess import check_output\n",
    "print(check_output([\"ls\", \"../input\"]).decode(\"utf8\"))\n",
    "\n",
    "# Any results you write to the current directory are saved as output."
   ]
  },
  {
   "cell_type": "code",
   "execution_count": 2,
   "metadata": {
    "_cell_guid": "dec05004-ccb3-490e-b588-27c0f4f06d1e",
    "_uuid": "41907ec74cae883fa8d56f6556cade5c67c8f3e0"
   },
   "outputs": [
    {
     "name": "stderr",
     "output_type": "stream",
     "text": [
      "Using TensorFlow backend.\n",
      "/opt/conda/lib/python3.6/importlib/_bootstrap.py:219: RuntimeWarning: compiletime version 3.5 of module 'tensorflow.python.framework.fast_tensor_util' does not match runtime version 3.6\n",
      "  return f(*args, **kwds)\n"
     ]
    }
   ],
   "source": [
    "from keras.utils import to_categorical\n",
    "import numpy as np\n",
    "import pandas as pd\n",
    "from sklearn.model_selection import train_test_split\n",
    "\n",
    "data_train = pd.read_csv('../input/fashion-mnist_train.csv')\n",
    "data_test = pd.read_csv('../input/fashion-mnist_test.csv')\n",
    "\n",
    "img_rows, img_cols = 28, 28\n",
    "input_shape = (img_rows, img_cols, 1)\n",
    "\n",
    "X = np.array(data_train.iloc[:, 1:])\n",
    "y = to_categorical(np.array(data_train.iloc[:, 0]))\n",
    "\n",
    "#Here we split validation data to optimiza classifier during training\n",
    "X_train, X_val, y_train, y_val = train_test_split(X, y, test_size=0.2, random_state=13)\n",
    "\n",
    "#Test data\n",
    "X_test = np.array(data_test.iloc[:, 1:])\n",
    "y_test = to_categorical(np.array(data_test.iloc[:, 0]))\n",
    "\n",
    "\n",
    "\n",
    "X_train = X_train.reshape(X_train.shape[0], img_rows, img_cols, 1)\n",
    "X_test = X_test.reshape(X_test.shape[0], img_rows, img_cols, 1)\n",
    "X_val = X_val.reshape(X_val.shape[0], img_rows, img_cols, 1)\n",
    "\n",
    "X_train = X_train.astype('float32')\n",
    "X_test = X_test.astype('float32')\n",
    "X_val = X_val.astype('float32')\n",
    "X_train /= 255\n",
    "X_test /= 255\n",
    "X_val /= 255"
   ]
  },
  {
   "cell_type": "code",
   "execution_count": 3,
   "metadata": {
    "_cell_guid": "0599166d-b975-4c88-8b91-071a8f4fb0cd",
    "_uuid": "0e9db73157e2c0e481bf3d73892d8d29263aa56f",
    "collapsed": true
   },
   "outputs": [],
   "source": [
    "import keras\n",
    "from keras.models import Sequential\n",
    "from keras.layers import Dense, Dropout, Flatten\n",
    "from keras.layers import Conv2D, MaxPooling2D\n",
    "from keras.layers.normalization import BatchNormalization\n",
    "\n",
    "batch_size = 256\n",
    "num_classes = 10\n",
    "epochs = 50\n",
    "\n",
    "#input image dimensions\n",
    "img_rows, img_cols = 28, 28\n",
    "\n",
    "model = Sequential()\n",
    "model.add(Conv2D(32, kernel_size=(3, 3),\n",
    "                 activation='relu',\n",
    "                 kernel_initializer='he_normal',\n",
    "                 input_shape=input_shape))\n",
    "model.add(MaxPooling2D((2, 2)))\n",
    "model.add(Dropout(0.25))\n",
    "model.add(Conv2D(64, (3, 3), activation='relu'))\n",
    "model.add(MaxPooling2D(pool_size=(2, 2)))\n",
    "model.add(Dropout(0.25))\n",
    "model.add(Conv2D(128, (3, 3), activation='relu'))\n",
    "model.add(Dropout(0.4))\n",
    "model.add(Flatten())\n",
    "model.add(Dense(128, activation='relu'))\n",
    "model.add(Dropout(0.3))\n",
    "model.add(Dense(num_classes, activation='softmax'))\n",
    "\n",
    "model.compile(loss=keras.losses.categorical_crossentropy,\n",
    "              optimizer=keras.optimizers.Adam(),\n",
    "              metrics=['accuracy'])"
   ]
  },
  {
   "cell_type": "code",
   "execution_count": 4,
   "metadata": {
    "_cell_guid": "4543df54-7373-49f8-a23a-6d8062eefe38",
    "_uuid": "9de535d8a446b7168ac3790445610425527c8a47"
   },
   "outputs": [
    {
     "name": "stdout",
     "output_type": "stream",
     "text": [
      "_________________________________________________________________\n",
      "Layer (type)                 Output Shape              Param #   \n",
      "=================================================================\n",
      "conv2d_1 (Conv2D)            (None, 26, 26, 32)        320       \n",
      "_________________________________________________________________\n",
      "max_pooling2d_1 (MaxPooling2 (None, 13, 13, 32)        0         \n",
      "_________________________________________________________________\n",
      "dropout_1 (Dropout)          (None, 13, 13, 32)        0         \n",
      "_________________________________________________________________\n",
      "conv2d_2 (Conv2D)            (None, 11, 11, 64)        18496     \n",
      "_________________________________________________________________\n",
      "max_pooling2d_2 (MaxPooling2 (None, 5, 5, 64)          0         \n",
      "_________________________________________________________________\n",
      "dropout_2 (Dropout)          (None, 5, 5, 64)          0         \n",
      "_________________________________________________________________\n",
      "conv2d_3 (Conv2D)            (None, 3, 3, 128)         73856     \n",
      "_________________________________________________________________\n",
      "dropout_3 (Dropout)          (None, 3, 3, 128)         0         \n",
      "_________________________________________________________________\n",
      "flatten_1 (Flatten)          (None, 1152)              0         \n",
      "_________________________________________________________________\n",
      "dense_1 (Dense)              (None, 128)               147584    \n",
      "_________________________________________________________________\n",
      "dropout_4 (Dropout)          (None, 128)               0         \n",
      "_________________________________________________________________\n",
      "dense_2 (Dense)              (None, 10)                1290      \n",
      "=================================================================\n",
      "Total params: 241,546\n",
      "Trainable params: 241,546\n",
      "Non-trainable params: 0\n",
      "_________________________________________________________________\n"
     ]
    }
   ],
   "source": [
    "model.summary()"
   ]
  },
  {
   "cell_type": "markdown",
   "metadata": {
    "_cell_guid": "c9d072ca-23e7-4608-a9d8-dc818715d6e3",
    "_uuid": "1e85d4b1d5fb567f2aad6bd82da969629e585f14"
   },
   "source": [
    "### Training\n",
    "Let's `fit()`! Note that `fit()` will return a _History_ object which we can use to plot training vs. validation accuracy and loss."
   ]
  },
  {
   "cell_type": "code",
   "execution_count": 5,
   "metadata": {
    "_cell_guid": "f24bf149-70e5-43f2-8574-117606493c85",
    "_uuid": "71b754f661ab2bba5e0d2c280d033a57300ef7e2",
    "scrolled": false
   },
   "outputs": [
    {
     "name": "stdout",
     "output_type": "stream",
     "text": [
      "Train on 48000 samples, validate on 12000 samples\n",
      "Epoch 1/50\n",
      "48000/48000 [==============================] - 59s 1ms/step - loss: 0.8071 - acc: 0.6991 - val_loss: 0.4921 - val_acc: 0.8102\n",
      "Epoch 2/50\n",
      "48000/48000 [==============================] - 58s 1ms/step - loss: 0.4976 - acc: 0.8169 - val_loss: 0.3881 - val_acc: 0.8542\n",
      "Epoch 3/50\n",
      "48000/48000 [==============================] - 60s 1ms/step - loss: 0.4212 - acc: 0.8472 - val_loss: 0.3442 - val_acc: 0.8733\n",
      "Epoch 4/50\n",
      "48000/48000 [==============================] - 58s 1ms/step - loss: 0.3831 - acc: 0.8625 - val_loss: 0.3357 - val_acc: 0.8767\n",
      "Epoch 5/50\n",
      "48000/48000 [==============================] - 57s 1ms/step - loss: 0.3589 - acc: 0.8701 - val_loss: 0.3053 - val_acc: 0.8892\n",
      "Epoch 6/50\n",
      "48000/48000 [==============================] - 58s 1ms/step - loss: 0.3376 - acc: 0.8777 - val_loss: 0.2914 - val_acc: 0.8938\n",
      "Epoch 7/50\n",
      "48000/48000 [==============================] - 58s 1ms/step - loss: 0.3236 - acc: 0.8820 - val_loss: 0.2825 - val_acc: 0.8983\n",
      "Epoch 8/50\n",
      "48000/48000 [==============================] - 57s 1ms/step - loss: 0.3101 - acc: 0.8853 - val_loss: 0.2780 - val_acc: 0.8974\n",
      "Epoch 9/50\n",
      "48000/48000 [==============================] - 58s 1ms/step - loss: 0.2996 - acc: 0.8894 - val_loss: 0.2745 - val_acc: 0.8977\n",
      "Epoch 10/50\n",
      "48000/48000 [==============================] - 57s 1ms/step - loss: 0.2898 - acc: 0.8940 - val_loss: 0.2654 - val_acc: 0.9009\n",
      "Epoch 11/50\n",
      "48000/48000 [==============================] - 57s 1ms/step - loss: 0.2819 - acc: 0.8960 - val_loss: 0.2579 - val_acc: 0.9037\n",
      "Epoch 12/50\n",
      "48000/48000 [==============================] - 57s 1ms/step - loss: 0.2738 - acc: 0.9010 - val_loss: 0.2515 - val_acc: 0.9074\n",
      "Epoch 13/50\n",
      "48000/48000 [==============================] - 58s 1ms/step - loss: 0.2673 - acc: 0.9014 - val_loss: 0.2470 - val_acc: 0.9097\n",
      "Epoch 14/50\n",
      "48000/48000 [==============================] - 57s 1ms/step - loss: 0.2662 - acc: 0.9014 - val_loss: 0.2481 - val_acc: 0.9076\n",
      "Epoch 15/50\n",
      "48000/48000 [==============================] - 58s 1ms/step - loss: 0.2616 - acc: 0.9038 - val_loss: 0.2439 - val_acc: 0.9086\n",
      "Epoch 16/50\n",
      "48000/48000 [==============================] - 57s 1ms/step - loss: 0.2588 - acc: 0.9031 - val_loss: 0.2398 - val_acc: 0.9095\n",
      "Epoch 17/50\n",
      "48000/48000 [==============================] - 57s 1ms/step - loss: 0.2515 - acc: 0.9059 - val_loss: 0.2375 - val_acc: 0.9107\n",
      "Epoch 18/50\n",
      "48000/48000 [==============================] - 57s 1ms/step - loss: 0.2462 - acc: 0.9078 - val_loss: 0.2352 - val_acc: 0.9107\n",
      "Epoch 19/50\n",
      "48000/48000 [==============================] - 58s 1ms/step - loss: 0.2425 - acc: 0.9088 - val_loss: 0.2324 - val_acc: 0.9110\n",
      "Epoch 20/50\n",
      "48000/48000 [==============================] - 58s 1ms/step - loss: 0.2386 - acc: 0.9099 - val_loss: 0.2357 - val_acc: 0.9106\n",
      "Epoch 21/50\n",
      "48000/48000 [==============================] - 52s 1ms/step - loss: 0.2367 - acc: 0.9112 - val_loss: 0.2322 - val_acc: 0.9125\n",
      "Epoch 22/50\n",
      "48000/48000 [==============================] - 50s 1ms/step - loss: 0.2330 - acc: 0.9120 - val_loss: 0.2356 - val_acc: 0.9113\n",
      "Epoch 23/50\n",
      "48000/48000 [==============================] - 58s 1ms/step - loss: 0.2314 - acc: 0.9129 - val_loss: 0.2258 - val_acc: 0.9146\n",
      "Epoch 24/50\n",
      "48000/48000 [==============================] - 54s 1ms/step - loss: 0.2247 - acc: 0.9160 - val_loss: 0.2221 - val_acc: 0.9165\n",
      "Epoch 25/50\n",
      "48000/48000 [==============================] - 54s 1ms/step - loss: 0.2232 - acc: 0.9164 - val_loss: 0.2305 - val_acc: 0.9140\n",
      "Epoch 26/50\n",
      "48000/48000 [==============================] - 55s 1ms/step - loss: 0.2224 - acc: 0.9170 - val_loss: 0.2262 - val_acc: 0.9142\n",
      "Epoch 27/50\n",
      "48000/48000 [==============================] - 54s 1ms/step - loss: 0.2173 - acc: 0.9184 - val_loss: 0.2195 - val_acc: 0.9181\n",
      "Epoch 28/50\n",
      "48000/48000 [==============================] - 54s 1ms/step - loss: 0.2177 - acc: 0.9180 - val_loss: 0.2221 - val_acc: 0.9152\n",
      "Epoch 29/50\n",
      "48000/48000 [==============================] - 54s 1ms/step - loss: 0.2173 - acc: 0.9180 - val_loss: 0.2218 - val_acc: 0.9179\n",
      "Epoch 30/50\n",
      "48000/48000 [==============================] - 54s 1ms/step - loss: 0.2140 - acc: 0.9216 - val_loss: 0.2195 - val_acc: 0.9187\n",
      "Epoch 31/50\n",
      "48000/48000 [==============================] - 55s 1ms/step - loss: 0.2161 - acc: 0.9186 - val_loss: 0.2179 - val_acc: 0.9196\n",
      "Epoch 32/50\n",
      "48000/48000 [==============================] - 54s 1ms/step - loss: 0.2041 - acc: 0.9245 - val_loss: 0.2170 - val_acc: 0.9206\n",
      "Epoch 33/50\n",
      "48000/48000 [==============================] - 55s 1ms/step - loss: 0.2043 - acc: 0.9224 - val_loss: 0.2176 - val_acc: 0.9203\n",
      "Epoch 34/50\n",
      "48000/48000 [==============================] - 54s 1ms/step - loss: 0.2028 - acc: 0.9230 - val_loss: 0.2187 - val_acc: 0.9190\n",
      "Epoch 35/50\n",
      "11776/48000 [======>.......................] - ETA: 41s - loss: 0.2029 - acc: 0.9215"
     ]
    }
   ],
   "source": [
    "history = model.fit(X_train, y_train,\n",
    "          batch_size=batch_size,\n",
    "          epochs=epochs,\n",
    "          verbose=1,\n",
    "          validation_data=(X_val, y_val))\n",
    "score = model.evaluate(X_test, y_test, verbose=0)"
   ]
  },
  {
   "cell_type": "code",
   "execution_count": 6,
   "metadata": {
    "_cell_guid": "f4b6cb78-1ef8-46ba-b72d-49a49c81bff0",
    "_uuid": "48787728c57ad402547540b5d528aabbd8b20c0d"
   },
   "outputs": [
    {
     "name": "stdout",
     "output_type": "stream",
     "text": [
      "Test loss: 0.198676128414\n",
      "Test accuracy: 0.9272\n"
     ]
    }
   ],
   "source": [
    "print('Test loss:', score[0])\n",
    "print('Test accuracy:', score[1])"
   ]
  },
  {
   "cell_type": "markdown",
   "metadata": {
    "_cell_guid": "f860c207-af4d-4c32-b4d2-4ea2d39902fe",
    "_uuid": "d18bc5dd0ec23cda8ea5ad846b9877704f484951"
   },
   "source": [
    "### Results\n",
    "It turns out our classifier does better then the best baseline reported [here](http://fashion-mnist.s3-website.eu-central-1.amazonaws.com/), which is an SVM classifier with mean accuracy of 0.897.\n"
   ]
  },
  {
   "cell_type": "markdown",
   "metadata": {
    "_cell_guid": "00dc5434-a008-490d-bb89-a394cf95c4bc",
    "_uuid": "adbb96b3d90dcab280f06341a8483f246f583a03"
   },
   "source": [
    "\n",
    "Let's plot training and validation accuracy as well as loss."
   ]
  },
  {
   "cell_type": "code",
   "execution_count": 7,
   "metadata": {
    "_cell_guid": "324c3a68-6381-4a39-a5a1-8fac766150c0",
    "_uuid": "042117c73a10d7cbda6bc42ab60f9b0407cdf2c1"
   },
   "outputs": [
    {
     "data": {
      "image/png": "[encoded data removed]",
      "text/plain": [
       "<matplotlib.figure.Figure at 0x7fe552808908>"
      ]
     },
     "metadata": {},
     "output_type": "display_data"
    },
    {
     "data": {
      "image/png": "[encoded data removed]",
      "text/plain": [
       "<matplotlib.figure.Figure at 0x7fe4ddeff198>"
      ]
     },
     "metadata": {},
     "output_type": "display_data"
    }
   ],
   "source": [
    "import matplotlib.pyplot as plt\n",
    "%matplotlib inline\n",
    "accuracy = history.history['acc']\n",
    "val_accuracy = history.history['val_acc']\n",
    "loss = history.history['loss']\n",
    "val_loss = history.history['val_loss']\n",
    "epochs = range(len(accuracy))\n",
    "plt.plot(epochs, accuracy, 'bo', label='Training accuracy')\n",
    "plt.plot(epochs, val_accuracy, 'b', label='Validation accuracy')\n",
    "plt.title('Training and validation accuracy')\n",
    "plt.legend()\n",
    "plt.figure()\n",
    "plt.plot(epochs, loss, 'bo', label='Training loss')\n",
    "plt.plot(epochs, val_loss, 'b', label='Validation loss')\n",
    "plt.title('Training and validation loss')\n",
    "plt.legend()\n",
    "plt.show()"
   ]
  },
  {
   "cell_type": "markdown",
   "metadata": {
    "_cell_guid": "1311601b-9a53-4e59-adcd-4365c811f85e",
    "_uuid": "28e5331842de7baaffb3a1e74f6a4c03e140759a"
   },
   "source": [
    "### Classification Report\n",
    "We can summarize the performance of our classifier as follows"
   ]
  },
  {
   "cell_type": "code",
   "execution_count": 8,
   "metadata": {
    "_cell_guid": "721514ef-520b-42a2-9d57-2f82fbae8393",
    "_uuid": "0275d1189e6425353537fa3ebe5d97d7b6759551",
    "collapsed": true
   },
   "outputs": [],
   "source": [
    "#get the predictions for the test data\n",
    "predicted_classes = model.predict_classes(X_test)\n",
    "\n",
    "#get the indices to be plotted\n",
    "y_true = data_test.iloc[:, 0]\n",
    "correct = np.nonzero(predicted_classes==y_true)[0]\n",
    "incorrect = np.nonzero(predicted_classes!=y_true)[0]"
   ]
  },
  {
   "cell_type": "code",
   "execution_count": 9,
   "metadata": {
    "_cell_guid": "2dfc23f6-e0be-4014-8ce1-c6a33b1eccde",
    "_uuid": "cc30fc7238f09f2372f718f17bd0f724fe898736"
   },
   "outputs": [
    {
     "name": "stdout",
     "output_type": "stream",
     "text": [
      "             precision    recall  f1-score   support\n",
      "\n",
      "    Class 0       0.86      0.91      0.88      1000\n",
      "    Class 1       0.99      0.99      0.99      1000\n",
      "    Class 2       0.88      0.90      0.89      1000\n",
      "    Class 3       0.92      0.95      0.93      1000\n",
      "    Class 4       0.92      0.86      0.89      1000\n",
      "    Class 5       0.99      0.98      0.99      1000\n",
      "    Class 6       0.80      0.77      0.79      1000\n",
      "    Class 7       0.95      0.98      0.96      1000\n",
      "    Class 8       0.99      0.99      0.99      1000\n",
      "    Class 9       0.97      0.96      0.97      1000\n",
      "\n",
      "avg / total       0.93      0.93      0.93     10000\n",
      "\n"
     ]
    }
   ],
   "source": [
    "from sklearn.metrics import classification_report\n",
    "target_names = [\"Class {}\".format(i) for i in range(num_classes)]\n",
    "print(classification_report(y_true, predicted_classes, target_names=target_names))"
   ]
  },
  {
   "cell_type": "markdown",
   "metadata": {
    "_cell_guid": "dc36576e-c630-4581-89fe-3bed02c378bb",
    "_uuid": "2863d680886cc22a2e6f11270b411e435410adaf"
   },
   "source": [
    "It's apparent that our classifier is underperforming for class 6 in terms of both precision and recall. For class 2, classifier is slightly lacking precision whereas it is slightly lacking recall (i.e. missed) for class 4.\n",
    "\n",
    "Perhaps we would gain more insight after visualizing the correct and incorrect predictions."
   ]
  },
  {
   "cell_type": "markdown",
   "metadata": {
    "_cell_guid": "866ef2af-d4e1-4697-bf87-9dcaa7cba363",
    "_uuid": "6a78901cefbe9a3bdf89cc1d22ee910970cfaf93"
   },
   "source": [
    "Here is a subset of correctly predicted classes."
   ]
  },
  {
   "cell_type": "code",
   "execution_count": 10,
   "metadata": {
    "_cell_guid": "5a33d457-ff62-4e32-81d7-89a6cdc1106d",
    "_uuid": "d8148b3557ac27d216e0137bbeae06379c829779"
   },
   "outputs": [
    {
     "data": {
      "image/png": "[encoded data removed]",
      "text/plain": [
       "<matplotlib.figure.Figure at 0x7fe4dde80048>"
      ]
     },
     "metadata": {},
     "output_type": "display_data"
    }
   ],
   "source": [
    "for i, correct in enumerate(correct[:9]):\n",
    "    plt.subplot(3,3,i+1)\n",
    "    plt.imshow(X_test[correct].reshape(28,28), cmap='gray', interpolation='none')\n",
    "    plt.title(\"Predicted {}, Class {}\".format(predicted_classes[correct], y_true[correct]))\n",
    "    plt.tight_layout()"
   ]
  },
  {
   "cell_type": "markdown",
   "metadata": {
    "_cell_guid": "9726e897-4d69-44d5-a1d5-358d316b5141",
    "_uuid": "a22f4456fa1c09e609db1a6c0e8eb1438087fa91"
   },
   "source": [
    "And here is a subset of incorrectly predicted classes."
   ]
  },
  {
   "cell_type": "code",
   "execution_count": 11,
   "metadata": {
    "_cell_guid": "803d7c3f-2099-420d-9612-dcf617d6cbe0",
    "_uuid": "fa4d360a4e77bd3d83490065351860b1d9f58f8b"
   },
   "outputs": [
    {
     "data": {
      "image/png": "[encoded data removed]",
      "text/plain": [
       "<matplotlib.figure.Figure at 0x7fe4a42e1c18>"
      ]
     },
     "metadata": {},
     "output_type": "display_data"
    }
   ],
   "source": [
    "for i, incorrect in enumerate(incorrect[0:9]):\n",
    "    plt.subplot(3,3,i+1)\n",
    "    plt.imshow(X_test[incorrect].reshape(28,28), cmap='gray', interpolation='none')\n",
    "    plt.title(\"Predicted {}, Class {}\".format(predicted_classes[incorrect], y_true[incorrect]))\n",
    "    plt.tight_layout()"
   ]
  },
  {
   "cell_type": "markdown",
   "metadata": {
    "_cell_guid": "cd66b1b1-db6f-47e4-aa2e-3ce516979fa3",
    "_uuid": "89881c6e4d1169ac543b5de992832d9e423dfdde"
   },
   "source": [
    "It looks like diversity of the similar patterns present on multiple classes effect the performance of the classifier although CNN is a robust architechture. A jacket, a shirt, and a long-sleeve blouse has similar patterns: long sleeves (or not!), buttons (or not!), and so on."
   ]
  },
  {
   "cell_type": "code",
   "execution_count": 15,
   "metadata": {
    "collapsed": true
   },
   "outputs": [],
   "source": []
  }
 ],
 "metadata": {
  "kernelspec": {
   "display_name": "Python 3",
   "language": "python",
   "name": "python3"
  },
  "language_info": {
   "codemirror_mode": {
    "name": "ipython",
    "version": 3
   },
   "file_extension": ".py",
   "mimetype": "text/x-python",
   "name": "python",
   "nbconvert_exporter": "python",
   "pygments_lexer": "ipython3",
   "version": "3.7.3"
  }
 },
 "nbformat": 4,
 "nbformat_minor": 1
}
